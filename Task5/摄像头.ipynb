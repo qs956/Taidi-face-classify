{
 "cells": [
  {
   "cell_type": "code",
   "execution_count": 1,
   "metadata": {
    "ExecuteTime": {
     "end_time": "2019-07-05T07:24:26.535913Z",
     "start_time": "2019-07-05T07:24:26.515937Z"
    }
   },
   "outputs": [],
   "source": [
    "import numpy as np\n",
    "import cv2"
   ]
  },
  {
   "cell_type": "code",
   "execution_count": 3,
   "metadata": {
    "ExecuteTime": {
     "end_time": "2019-07-05T07:25:24.311038Z",
     "start_time": "2019-07-05T07:25:14.886598Z"
    }
   },
   "outputs": [],
   "source": [
    "cap = cv2.VideoCapture(0)\n",
    "while(1):\n",
    "    # get a frame\n",
    "    ret, frame = cap.read()\n",
    "    # show a frame\n",
    "    cv2.imshow(\"按q退出\", frame)\n",
    "    if cv2.waitKey(1) & 0xFF == ord('q'):\n",
    "        break\n",
    "cap.release()\n",
    "cv2.destroyAllWindows() "
   ]
  },
  {
   "cell_type": "code",
   "execution_count": 4,
   "metadata": {
    "ExecuteTime": {
     "end_time": "2019-07-05T07:30:23.169118Z",
     "start_time": "2019-07-05T07:30:23.157176Z"
    }
   },
   "outputs": [
    {
     "data": {
      "text/plain": [
       "array([[[165, 168, 178],\n",
       "        [168, 171, 181],\n",
       "        [170, 172, 172],\n",
       "        ...,\n",
       "        [237, 239, 221],\n",
       "        [242, 242, 222],\n",
       "        [243, 243, 223]],\n",
       "\n",
       "       [[165, 172, 170],\n",
       "        [165, 172, 170],\n",
       "        [164, 168, 167],\n",
       "        ...,\n",
       "        [233, 237, 219],\n",
       "        [241, 240, 223],\n",
       "        [241, 240, 223]],\n",
       "\n",
       "       [[169, 173, 167],\n",
       "        [170, 174, 168],\n",
       "        [167, 170, 166],\n",
       "        ...,\n",
       "        [229, 233, 222],\n",
       "        [231, 235, 222],\n",
       "        [232, 236, 223]],\n",
       "\n",
       "       ...,\n",
       "\n",
       "       [[  7,  12,   8],\n",
       "        [  6,  11,   7],\n",
       "        [  5,  14,  13],\n",
       "        ...,\n",
       "        [  8,  11,   2],\n",
       "        [  3,   7,   1],\n",
       "        [  4,   8,   2]],\n",
       "\n",
       "       [[ 14,  21,  19],\n",
       "        [  5,  12,  10],\n",
       "        [ 13,  15,  15],\n",
       "        ...,\n",
       "        [  4,   5,   1],\n",
       "        [  4,   8,   8],\n",
       "        [  4,   8,   8]],\n",
       "\n",
       "       [[  6,  14,   9],\n",
       "        [  9,  17,  12],\n",
       "        [ 15,  16,  12],\n",
       "        ...,\n",
       "        [  2,   4,   3],\n",
       "        [  4,   8,   8],\n",
       "        [  2,   6,   6]]], dtype=uint8)"
      ]
     },
     "execution_count": 4,
     "metadata": {},
     "output_type": "execute_result"
    }
   ],
   "source": [
    "frame"
   ]
  }
 ],
 "metadata": {
  "kernelspec": {
   "display_name": "Python 3",
   "language": "python",
   "name": "python3"
  },
  "language_info": {
   "codemirror_mode": {
    "name": "ipython",
    "version": 3
   },
   "file_extension": ".py",
   "mimetype": "text/x-python",
   "name": "python",
   "nbconvert_exporter": "python",
   "pygments_lexer": "ipython3",
   "version": "3.6.4"
  },
  "toc": {
   "base_numbering": 1,
   "nav_menu": {},
   "number_sections": true,
   "sideBar": true,
   "skip_h1_title": false,
   "title_cell": "Table of Contents",
   "title_sidebar": "Contents",
   "toc_cell": false,
   "toc_position": {},
   "toc_section_display": true,
   "toc_window_display": false
  },
  "varInspector": {
   "cols": {
    "lenName": 16,
    "lenType": 16,
    "lenVar": 40
   },
   "kernels_config": {
    "python": {
     "delete_cmd_postfix": "",
     "delete_cmd_prefix": "del ",
     "library": "var_list.py",
     "varRefreshCmd": "print(var_dic_list())"
    },
    "r": {
     "delete_cmd_postfix": ") ",
     "delete_cmd_prefix": "rm(",
     "library": "var_list.r",
     "varRefreshCmd": "cat(var_dic_list()) "
    }
   },
   "types_to_exclude": [
    "module",
    "function",
    "builtin_function_or_method",
    "instance",
    "_Feature"
   ],
   "window_display": false
  }
 },
 "nbformat": 4,
 "nbformat_minor": 2
}
