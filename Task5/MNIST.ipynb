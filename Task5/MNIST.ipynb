{
 "cells": [
  {
   "cell_type": "code",
   "execution_count": 1,
   "metadata": {},
   "outputs": [],
   "source": [
    "import numpy as np\n",
    "import tensorflow as tf\n",
    "import matplotlib.pyplot as plt"
   ]
  },
  {
   "cell_type": "markdown",
   "metadata": {},
   "source": [
    "# TensorFlow版本"
   ]
  },
  {
   "cell_type": "code",
   "execution_count": 2,
   "metadata": {},
   "outputs": [
    {
     "data": {
      "text/plain": [
       "'1.13.1'"
      ]
     },
     "execution_count": 2,
     "metadata": {},
     "output_type": "execute_result"
    }
   ],
   "source": [
    "tf.__version__"
   ]
  },
  {
   "cell_type": "markdown",
   "metadata": {},
   "source": [
    "# MNIST数据集的获取"
   ]
  },
  {
   "cell_type": "code",
   "execution_count": 3,
   "metadata": {},
   "outputs": [
    {
     "name": "stdout",
     "output_type": "stream",
     "text": [
      "WARNING:tensorflow:From <ipython-input-3-aea5f960472f>:2: read_data_sets (from tensorflow.contrib.learn.python.learn.datasets.mnist) is deprecated and will be removed in a future version.\n",
      "Instructions for updating:\n",
      "Please use alternatives such as official/mnist/dataset.py from tensorflow/models.\n",
      "WARNING:tensorflow:From D:\\Anaconda3\\lib\\site-packages\\tensorflow\\contrib\\learn\\python\\learn\\datasets\\mnist.py:260: maybe_download (from tensorflow.contrib.learn.python.learn.datasets.base) is deprecated and will be removed in a future version.\n",
      "Instructions for updating:\n",
      "Please write your own downloading logic.\n",
      "WARNING:tensorflow:From D:\\Anaconda3\\lib\\site-packages\\tensorflow\\contrib\\learn\\python\\learn\\datasets\\mnist.py:262: extract_images (from tensorflow.contrib.learn.python.learn.datasets.mnist) is deprecated and will be removed in a future version.\n",
      "Instructions for updating:\n",
      "Please use tf.data to implement this functionality.\n",
      "Extracting data/train-images-idx3-ubyte.gz\n",
      "WARNING:tensorflow:From D:\\Anaconda3\\lib\\site-packages\\tensorflow\\contrib\\learn\\python\\learn\\datasets\\mnist.py:267: extract_labels (from tensorflow.contrib.learn.python.learn.datasets.mnist) is deprecated and will be removed in a future version.\n",
      "Instructions for updating:\n",
      "Please use tf.data to implement this functionality.\n",
      "Extracting data/train-labels-idx1-ubyte.gz\n",
      "Extracting data/t10k-images-idx3-ubyte.gz\n",
      "Extracting data/t10k-labels-idx1-ubyte.gz\n",
      "WARNING:tensorflow:From D:\\Anaconda3\\lib\\site-packages\\tensorflow\\contrib\\learn\\python\\learn\\datasets\\mnist.py:290: DataSet.__init__ (from tensorflow.contrib.learn.python.learn.datasets.mnist) is deprecated and will be removed in a future version.\n",
      "Instructions for updating:\n",
      "Please use alternatives such as official/mnist/dataset.py from tensorflow/models.\n"
     ]
    }
   ],
   "source": [
    "from tensorflow.examples.tutorials.mnist import input_data\n",
    "mnist = input_data.read_data_sets(r'data/')"
   ]
  },
  {
   "cell_type": "code",
   "execution_count": 4,
   "metadata": {},
   "outputs": [],
   "source": [
    "train_x = mnist.train.images\n",
    "train_y = mnist.train.labels\n",
    "test_x = mnist.test.images\n",
    "test_y = mnist.test.labels"
   ]
  },
  {
   "cell_type": "markdown",
   "metadata": {},
   "source": [
    "# 构建LeNet-5模型"
   ]
  },
  {
   "cell_type": "code",
   "execution_count": 5,
   "metadata": {},
   "outputs": [
    {
     "name": "stdout",
     "output_type": "stream",
     "text": [
      "WARNING:tensorflow:From <ipython-input-5-aeb5ee46aa13>:9: conv2d (from tensorflow.python.layers.convolutional) is deprecated and will be removed in a future version.\n",
      "Instructions for updating:\n",
      "Use keras.layers.conv2d instead.\n",
      "WARNING:tensorflow:From D:\\Anaconda3\\lib\\site-packages\\tensorflow\\python\\framework\\op_def_library.py:263: colocate_with (from tensorflow.python.framework.ops) is deprecated and will be removed in a future version.\n",
      "Instructions for updating:\n",
      "Colocations handled automatically by placer.\n",
      "WARNING:tensorflow:From <ipython-input-5-aeb5ee46aa13>:11: average_pooling2d (from tensorflow.python.layers.pooling) is deprecated and will be removed in a future version.\n",
      "Instructions for updating:\n",
      "Use keras.layers.average_pooling2d instead.\n",
      "WARNING:tensorflow:From <ipython-input-5-aeb5ee46aa13>:12: dense (from tensorflow.python.layers.core) is deprecated and will be removed in a future version.\n",
      "Instructions for updating:\n",
      "Use keras.layers.dense instead.\n"
     ]
    }
   ],
   "source": [
    "x = tf.placeholder(tf.float32,shape = (None,train_x.shape[1]))\n",
    "y = tf.placeholder(tf.int32)\n",
    "y_true = tf.one_hot(y,depth = 10)\n",
    "\n",
    "#注意是channel last\n",
    "layer_input = tf.reshape(x,shape = (-1,28,28,1))\n",
    "layer_input = tf.pad(layer_input,[[0,0],[2,2],[2,2],[0,0]])\n",
    "\n",
    "layer_c1 = tf.layers.conv2d(layer_input,6,(5,5))\n",
    "\n",
    "layer_s2 = tf.layers.average_pooling2d(layer_c1,(2,2),2)\n",
    "layer_s2 = tf.layers.dense(layer_s2,1,activation = tf.sigmoid)\n",
    "\n",
    "layer_c3 = tf.layers.conv2d(layer_s2,16,(5,5))\n",
    "\n",
    "layer_s4 = tf.layers.average_pooling2d(layer_c3,(2,2),2)\n",
    "layer_s4 = tf.layers.dense(layer_s4,1,activation = tf.nn.relu)\n",
    "\n",
    "layer_c5 = tf.layers.conv2d(layer_s4,120,(5,5))\n",
    "\n",
    "layer_f6 = tf.layers.dense(layer_c5,120,activation = tf.sigmoid)\n",
    "\n",
    "layer_f7 = tf.layers.dense(layer_f6,10)"
   ]
  },
  {
   "cell_type": "markdown",
   "metadata": {},
   "source": [
    "# 学习参数设置"
   ]
  },
  {
   "cell_type": "code",
   "execution_count": 6,
   "metadata": {},
   "outputs": [],
   "source": [
    "batch = 1000\n",
    "epoch = 5\n",
    "step_each_epoch = int(train_x.shape[0]/batch)"
   ]
  },
  {
   "cell_type": "code",
   "execution_count": 7,
   "metadata": {},
   "outputs": [
    {
     "name": "stdout",
     "output_type": "stream",
     "text": [
      "WARNING:tensorflow:From D:\\Anaconda3\\lib\\site-packages\\tensorflow\\python\\ops\\losses\\losses_impl.py:209: to_float (from tensorflow.python.ops.math_ops) is deprecated and will be removed in a future version.\n",
      "Instructions for updating:\n",
      "Use tf.cast instead.\n",
      "WARNING:tensorflow:From <ipython-input-7-b6d2fe2989fb>:2: arg_max (from tensorflow.python.ops.gen_math_ops) is deprecated and will be removed in a future version.\n",
      "Instructions for updating:\n",
      "Use `tf.math.argmax` instead\n"
     ]
    }
   ],
   "source": [
    "loss = tf.reduce_sum(tf.losses.softmax_cross_entropy(logits = layer_f7,onehot_labels = y_true))\n",
    "y_pre = tf.arg_max(tf.nn.softmax(layer_f7),3)\n",
    "train_op = tf.train.AdamOptimizer().minimize(loss)\n",
    "saver = tf.train.Saver()"
   ]
  },
  {
   "cell_type": "markdown",
   "metadata": {},
   "source": [
    "# 开始训练"
   ]
  },
  {
   "cell_type": "code",
   "execution_count": 8,
   "metadata": {},
   "outputs": [
    {
     "name": "stdout",
     "output_type": "stream",
     "text": [
      "epoch 0,step 0,loss 2.5295238494873047\n",
      "epoch 0,step 10,loss 2.3054282665252686\n",
      "epoch 0,step 20,loss 2.2971293926239014\n",
      "epoch 0,step 30,loss 2.299272060394287\n",
      "epoch 0,step 40,loss 2.293409585952759\n",
      "epoch 0,step 50,loss 2.276235342025757\n",
      "Accuary Num: 10514\n",
      "epoch 1,step 0,loss 2.256678819656372\n",
      "epoch 1,step 10,loss 2.1539809703826904\n",
      "epoch 1,step 20,loss 1.8754899501800537\n",
      "epoch 1,step 30,loss 1.464343786239624\n",
      "epoch 1,step 40,loss 1.2062233686447144\n",
      "epoch 1,step 50,loss 0.9346644878387451\n",
      "Accuary Num: 40442\n",
      "epoch 2,step 0,loss 0.9306538701057434\n",
      "epoch 2,step 10,loss 0.7667126655578613\n",
      "epoch 2,step 20,loss 0.6775241494178772\n",
      "epoch 2,step 30,loss 0.5949601531028748\n",
      "epoch 2,step 40,loss 0.6168568134307861\n",
      "epoch 2,step 50,loss 0.5028893947601318\n",
      "Accuary Num: 46112\n",
      "epoch 3,step 0,loss 0.548198938369751\n",
      "epoch 3,step 10,loss 0.4874243438243866\n",
      "epoch 3,step 20,loss 0.4585815668106079\n",
      "epoch 3,step 30,loss 0.4045945405960083\n",
      "epoch 3,step 40,loss 0.476972758769989\n",
      "epoch 3,step 50,loss 0.37890660762786865\n",
      "Accuary Num: 47911\n",
      "epoch 4,step 0,loss 0.43049803376197815\n",
      "epoch 4,step 10,loss 0.4053235650062561\n",
      "epoch 4,step 20,loss 0.3785792589187622\n",
      "epoch 4,step 30,loss 0.33957213163375854\n",
      "epoch 4,step 40,loss 0.4133264422416687\n",
      "epoch 4,step 50,loss 0.3251229226589203\n",
      "Accuary Num: 48616\n",
      "Model saved in file: save/model.ckpt\n"
     ]
    }
   ],
   "source": [
    "with tf.Session() as sess:\n",
    "    sess.run(tf.global_variables_initializer())\n",
    "    for i in range(epoch):\n",
    "        for j in range(step_each_epoch):\n",
    "            show_loss,_ = sess.run([loss,train_op],feed_dict = {x:train_x[j*batch:j*batch+batch,:],y:train_y[j*batch:j*batch+batch]})\n",
    "            if (j%10 == 0):\n",
    "                print(f'epoch {i},step {j},loss {show_loss}')\n",
    "#     temp = sess.run(tf.nn.softmax(layer_f7),feed_dict = {x:train_x,y:train_y})\n",
    "        pre_result = sess.run(y_pre,feed_dict = {x:train_x,y:train_y})\n",
    "        acc = np.sum(pre_result[:,0,0] == train_y)\n",
    "        print('Accuary Num:',acc)\n",
    "    saver_path = saver.save(sess, r'save/model.ckpt')\n",
    "    print(\"Model saved in file:\", saver_path)"
   ]
  }
 ],
 "metadata": {
  "kernelspec": {
   "display_name": "Python 3",
   "language": "python",
   "name": "python3"
  },
  "language_info": {
   "codemirror_mode": {
    "name": "ipython",
    "version": 3
   },
   "file_extension": ".py",
   "mimetype": "text/x-python",
   "name": "python",
   "nbconvert_exporter": "python",
   "pygments_lexer": "ipython3",
   "version": "3.6.4"
  },
  "toc": {
   "base_numbering": 1,
   "nav_menu": {},
   "number_sections": true,
   "sideBar": true,
   "skip_h1_title": false,
   "title_cell": "Table of Contents",
   "title_sidebar": "Contents",
   "toc_cell": false,
   "toc_position": {},
   "toc_section_display": true,
   "toc_window_display": false
  },
  "varInspector": {
   "cols": {
    "lenName": 16,
    "lenType": 16,
    "lenVar": 40
   },
   "kernels_config": {
    "python": {
     "delete_cmd_postfix": "",
     "delete_cmd_prefix": "del ",
     "library": "var_list.py",
     "varRefreshCmd": "print(var_dic_list())"
    },
    "r": {
     "delete_cmd_postfix": ") ",
     "delete_cmd_prefix": "rm(",
     "library": "var_list.r",
     "varRefreshCmd": "cat(var_dic_list()) "
    }
   },
   "position": {
    "height": "607.4px",
    "left": "1175.6px",
    "right": "20px",
    "top": "120px",
    "width": "340.4px"
   },
   "types_to_exclude": [
    "module",
    "function",
    "builtin_function_or_method",
    "instance",
    "_Feature"
   ],
   "window_display": false
  }
 },
 "nbformat": 4,
 "nbformat_minor": 2
}
