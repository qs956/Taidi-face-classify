{
 "cells": [
  {
   "cell_type": "code",
   "execution_count": 1,
   "metadata": {
    "ExecuteTime": {
     "end_time": "2019-07-05T11:11:54.570393Z",
     "start_time": "2019-07-05T11:11:52.060010Z"
    }
   },
   "outputs": [
    {
     "name": "stderr",
     "output_type": "stream",
     "text": [
      "C:\\Users\\hasee\\Anaconda3\\lib\\site-packages\\h5py\\__init__.py:36: FutureWarning: Conversion of the second argument of issubdtype from `float` to `np.floating` is deprecated. In future, it will be treated as `np.float64 == np.dtype(float).type`.\n",
      "  from ._conv import register_converters as _register_converters\n"
     ]
    }
   ],
   "source": [
    "import numpy as np\n",
    "import tensorflow as tf"
   ]
  },
  {
   "cell_type": "code",
   "execution_count": 2,
   "metadata": {
    "ExecuteTime": {
     "end_time": "2019-07-05T11:11:54.626199Z",
     "start_time": "2019-07-05T11:11:54.572263Z"
    }
   },
   "outputs": [],
   "source": [
    "test_data = np.load(r'../Task3/result/test_data.npy')\n",
    "test_label = np.load(r'../Task3/result/test_label.npy')\n",
    "mu_sigma = np.load(r'../Task4/model/mu_std.npy')\n",
    "name_map = np.load(r'../Task4/model/name_map.npy')\n",
    "model_path = r'../Task4/model/'"
   ]
  },
  {
   "cell_type": "code",
   "execution_count": 3,
   "metadata": {
    "ExecuteTime": {
     "end_time": "2019-07-05T11:11:54.656051Z",
     "start_time": "2019-07-05T11:11:54.628115Z"
    }
   },
   "outputs": [],
   "source": [
    "from model import *"
   ]
  },
  {
   "cell_type": "code",
   "execution_count": 4,
   "metadata": {
    "ExecuteTime": {
     "end_time": "2019-07-05T11:11:58.370143Z",
     "start_time": "2019-07-05T11:11:54.660026Z"
    }
   },
   "outputs": [
    {
     "name": "stdout",
     "output_type": "stream",
     "text": [
      "INFO:tensorflow:Restoring parameters from ../Task4/model/model\n"
     ]
    }
   ],
   "source": [
    "face_detect = FaceDetector()\n",
    "face_recon = ResNet_recon()\n",
    "name = name_map[0]"
   ]
  },
  {
   "cell_type": "code",
   "execution_count": 8,
   "metadata": {
    "ExecuteTime": {
     "end_time": "2019-07-05T11:17:56.563985Z",
     "start_time": "2019-07-05T11:17:56.539053Z"
    }
   },
   "outputs": [
    {
     "data": {
      "text/plain": [
       "(array([4], dtype=int64), array([0.85949576], dtype=float32))"
      ]
     },
     "execution_count": 8,
     "metadata": {},
     "output_type": "execute_result"
    }
   ],
   "source": [
    "face_recon(test_data[42].reshape((1,-1)).astype(np.float32))"
   ]
  },
  {
   "cell_type": "code",
   "execution_count": 13,
   "metadata": {
    "ExecuteTime": {
     "end_time": "2019-07-05T11:28:31.387428Z",
     "start_time": "2019-07-05T11:28:31.384459Z"
    }
   },
   "outputs": [],
   "source": [
    "a = test_data[0:10]"
   ]
  },
  {
   "cell_type": "code",
   "execution_count": 16,
   "metadata": {
    "ExecuteTime": {
     "end_time": "2019-07-05T11:28:58.407146Z",
     "start_time": "2019-07-05T11:28:58.404155Z"
    }
   },
   "outputs": [],
   "source": [
    "mu,sigma = mu_sigma[0],mu_sigma[1]"
   ]
  },
  {
   "cell_type": "code",
   "execution_count": 18,
   "metadata": {
    "ExecuteTime": {
     "end_time": "2019-07-05T11:29:19.170320Z",
     "start_time": "2019-07-05T11:29:19.158347Z"
    }
   },
   "outputs": [],
   "source": [
    "b = (a-mu)/sigma"
   ]
  },
  {
   "cell_type": "code",
   "execution_count": 19,
   "metadata": {
    "ExecuteTime": {
     "end_time": "2019-07-05T11:29:38.366831Z",
     "start_time": "2019-07-05T11:29:36.350163Z"
    }
   },
   "outputs": [
    {
     "name": "stdout",
     "output_type": "stream",
     "text": [
      "INFO:tensorflow:Restoring parameters from ../Task4/model/model\n"
     ]
    }
   ],
   "source": [
    "g = tf.Graph()\n",
    "with tf.Session(graph = g) as sess:\n",
    "    saver = tf.train.import_meta_graph(r'../Task4/model/model.meta')\n",
    "    inputs = sess.graph.get_tensor_by_name('x_input:0')\n",
    "    y_pred = sess.graph.get_tensor_by_name('output/y_pred:0')\n",
    "    y_proba = sess.graph.get_tensor_by_name('output/y_proba:0')\n",
    "    saver.restore(sess, tf.train.latest_checkpoint(r'../Task4/model/'))\n",
    "    temp = sess.run([y_pred],feed_dict = {inputs:b})"
   ]
  },
  {
   "cell_type": "code",
   "execution_count": 23,
   "metadata": {
    "ExecuteTime": {
     "end_time": "2019-07-05T11:35:03.631525Z",
     "start_time": "2019-07-05T11:35:03.613570Z"
    }
   },
   "outputs": [
    {
     "ename": "ValueError",
     "evalue": "not enough values to unpack (expected 3, got 1)",
     "output_type": "error",
     "traceback": [
      "\u001b[1;31m------------------------------------------------------------------------\u001b[0m",
      "\u001b[1;31mValueError\u001b[0m                             Traceback (most recent call last)",
      "\u001b[1;32m<ipython-input-23-85c0d8afae25>\u001b[0m in \u001b[0;36m<module>\u001b[1;34m()\u001b[0m\n\u001b[1;32m----> 1\u001b[1;33m \u001b[0mmain\u001b[0m\u001b[1;33m(\u001b[0m\u001b[0ma\u001b[0m\u001b[1;33m[\u001b[0m\u001b[1;36m0\u001b[0m\u001b[1;33m]\u001b[0m\u001b[1;33m,\u001b[0m\u001b[0mface_detect\u001b[0m\u001b[1;33m,\u001b[0m\u001b[0mface_recon\u001b[0m\u001b[1;33m,\u001b[0m\u001b[0mname\u001b[0m\u001b[1;33m)\u001b[0m\u001b[1;33m\u001b[0m\u001b[0m\n\u001b[0m",
      "\u001b[1;32mE:\\项目\\泰迪人脸识别\\codes\\Task5\\model.py\u001b[0m in \u001b[0;36mmain\u001b[1;34m(img, face_detect, face_recon, name)\u001b[0m\n\u001b[0;32m     96\u001b[0m \u001b[1;32mdef\u001b[0m \u001b[0mmain\u001b[0m\u001b[1;33m(\u001b[0m\u001b[0mimg\u001b[0m\u001b[1;33m,\u001b[0m\u001b[0mface_detect\u001b[0m\u001b[1;33m,\u001b[0m\u001b[0mface_recon\u001b[0m\u001b[1;33m,\u001b[0m\u001b[0mname\u001b[0m\u001b[1;33m)\u001b[0m\u001b[1;33m:\u001b[0m\u001b[1;33m\u001b[0m\u001b[0m\n\u001b[0;32m     97\u001b[0m         \u001b[1;31m#人脸检测\u001b[0m\u001b[1;33m\u001b[0m\u001b[1;33m\u001b[0m\u001b[0m\n\u001b[1;32m---> 98\u001b[1;33m         \u001b[0mboxes\u001b[0m\u001b[1;33m,\u001b[0m\u001b[0mscores\u001b[0m \u001b[1;33m=\u001b[0m \u001b[0mface_detect\u001b[0m\u001b[1;33m(\u001b[0m\u001b[0mimg\u001b[0m\u001b[1;33m)\u001b[0m\u001b[1;33m\u001b[0m\u001b[0m\n\u001b[0m\u001b[0;32m     99\u001b[0m         \u001b[1;31m#灰度处理\u001b[0m\u001b[1;33m\u001b[0m\u001b[1;33m\u001b[0m\u001b[0m\n\u001b[0;32m    100\u001b[0m         \u001b[1;32mif\u001b[0m \u001b[1;33m(\u001b[0m\u001b[0mlen\u001b[0m\u001b[1;33m(\u001b[0m\u001b[0mscores\u001b[0m\u001b[1;33m)\u001b[0m \u001b[1;33m!=\u001b[0m \u001b[1;36m0\u001b[0m\u001b[1;33m)\u001b[0m\u001b[1;33m:\u001b[0m\u001b[1;33m\u001b[0m\u001b[0m\n",
      "\u001b[1;32mE:\\项目\\泰迪人脸识别\\codes\\Task5\\model.py\u001b[0m in \u001b[0;36m__call__\u001b[1;34m(self, image, score_threshold)\u001b[0m\n\u001b[0;32m     49\u001b[0m                 \u001b[0mNote\u001b[0m \u001b[0mthat\u001b[0m \u001b[0mbox\u001b[0m \u001b[0mcoordinates\u001b[0m \u001b[0mare\u001b[0m \u001b[1;32min\u001b[0m \u001b[0mthe\u001b[0m \u001b[0morder\u001b[0m\u001b[1;33m:\u001b[0m \u001b[0mymin\u001b[0m\u001b[1;33m,\u001b[0m \u001b[0mxmin\u001b[0m\u001b[1;33m,\u001b[0m \u001b[0mymax\u001b[0m\u001b[1;33m,\u001b[0m \u001b[0mxmax\u001b[0m\u001b[0;31m!\u001b[0m\u001b[1;33m\u001b[0m\u001b[0m\n\u001b[0;32m     50\u001b[0m \t\t\"\"\"\n\u001b[1;32m---> 51\u001b[1;33m                 \u001b[0mh\u001b[0m\u001b[1;33m,\u001b[0m \u001b[0mw\u001b[0m\u001b[1;33m,\u001b[0m \u001b[0m_\u001b[0m \u001b[1;33m=\u001b[0m \u001b[0mimage\u001b[0m\u001b[1;33m.\u001b[0m\u001b[0mshape\u001b[0m\u001b[1;33m\u001b[0m\u001b[0m\n\u001b[0m\u001b[0;32m     52\u001b[0m                 \u001b[0mimage\u001b[0m \u001b[1;33m=\u001b[0m \u001b[0mnp\u001b[0m\u001b[1;33m.\u001b[0m\u001b[0mexpand_dims\u001b[0m\u001b[1;33m(\u001b[0m\u001b[0mimage\u001b[0m\u001b[1;33m,\u001b[0m \u001b[1;36m0\u001b[0m\u001b[1;33m)\u001b[0m\u001b[1;33m\u001b[0m\u001b[0m\n\u001b[0;32m     53\u001b[0m \u001b[1;33m\u001b[0m\u001b[0m\n",
      "\u001b[1;31mValueError\u001b[0m: not enough values to unpack (expected 3, got 1)"
     ]
    }
   ],
   "source": [
    "main(a[0],face_detect,face_recon,name)"
   ]
  },
  {
   "cell_type": "code",
   "execution_count": 20,
   "metadata": {
    "ExecuteTime": {
     "end_time": "2019-07-05T11:29:41.574739Z",
     "start_time": "2019-07-05T11:29:41.568753Z"
    }
   },
   "outputs": [
    {
     "data": {
      "text/plain": [
       "[array([3, 5, 9, 7, 0, 4, 5, 7, 4, 4], dtype=int64)]"
      ]
     },
     "execution_count": 20,
     "metadata": {},
     "output_type": "execute_result"
    }
   ],
   "source": [
    "temp"
   ]
  },
  {
   "cell_type": "code",
   "execution_count": 10,
   "metadata": {
    "ExecuteTime": {
     "end_time": "2019-07-05T11:25:41.806926Z",
     "start_time": "2019-07-05T11:25:41.801916Z"
    }
   },
   "outputs": [
    {
     "data": {
      "text/plain": [
       "[array([4, 8, 2, 6, 9, 0, 7, 6, 0, 0], dtype=int64)]"
      ]
     },
     "execution_count": 10,
     "metadata": {},
     "output_type": "execute_result"
    }
   ],
   "source": [
    "temp"
   ]
  },
  {
   "cell_type": "code",
   "execution_count": 11,
   "metadata": {
    "ExecuteTime": {
     "end_time": "2019-07-05T11:26:20.672933Z",
     "start_time": "2019-07-05T11:26:20.667931Z"
    }
   },
   "outputs": [
    {
     "data": {
      "text/plain": [
       "array(['niruxing', 'zhaoyinan', 'liangminghua', 'weizhijian',\n",
       "       'zhuhaoxuan', 'hedelin', 'xiaojiarui', 'weizhijian', 'hedelin',\n",
       "       'hedelin'], dtype='<U12')"
      ]
     },
     "execution_count": 11,
     "metadata": {},
     "output_type": "execute_result"
    }
   ],
   "source": [
    "test_label[0:10]"
   ]
  },
  {
   "cell_type": "code",
   "execution_count": 12,
   "metadata": {
    "ExecuteTime": {
     "end_time": "2019-07-05T11:26:30.609144Z",
     "start_time": "2019-07-05T11:26:30.604154Z"
    }
   },
   "outputs": [
    {
     "data": {
      "text/plain": [
       "array(['hedelin', 'laojunhao', 'liangminghua', 'luoziying', 'niruxing',\n",
       "       'suzhan', 'weizhijian', 'xiaojiarui', 'zhaoyinan', 'zhuhaoxuan'],\n",
       "      dtype='<U12')"
      ]
     },
     "execution_count": 12,
     "metadata": {},
     "output_type": "execute_result"
    }
   ],
   "source": [
    "name"
   ]
  }
 ],
 "metadata": {
  "kernelspec": {
   "display_name": "Python 3",
   "language": "python",
   "name": "python3"
  },
  "language_info": {
   "codemirror_mode": {
    "name": "ipython",
    "version": 3
   },
   "file_extension": ".py",
   "mimetype": "text/x-python",
   "name": "python",
   "nbconvert_exporter": "python",
   "pygments_lexer": "ipython3",
   "version": "3.6.4"
  },
  "toc": {
   "base_numbering": 1,
   "nav_menu": {},
   "number_sections": true,
   "sideBar": true,
   "skip_h1_title": false,
   "title_cell": "Table of Contents",
   "title_sidebar": "Contents",
   "toc_cell": false,
   "toc_position": {},
   "toc_section_display": true,
   "toc_window_display": false
  },
  "varInspector": {
   "cols": {
    "lenName": 16,
    "lenType": 16,
    "lenVar": 40
   },
   "kernels_config": {
    "python": {
     "delete_cmd_postfix": "",
     "delete_cmd_prefix": "del ",
     "library": "var_list.py",
     "varRefreshCmd": "print(var_dic_list())"
    },
    "r": {
     "delete_cmd_postfix": ") ",
     "delete_cmd_prefix": "rm(",
     "library": "var_list.r",
     "varRefreshCmd": "cat(var_dic_list()) "
    }
   },
   "position": {
    "height": "282px",
    "left": "858.8px",
    "right": "20px",
    "top": "120px",
    "width": "354px"
   },
   "types_to_exclude": [
    "module",
    "function",
    "builtin_function_or_method",
    "instance",
    "_Feature"
   ],
   "window_display": false
  }
 },
 "nbformat": 4,
 "nbformat_minor": 2
}
