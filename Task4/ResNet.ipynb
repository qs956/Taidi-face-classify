{
 "cells": [
  {
   "cell_type": "code",
   "execution_count": 174,
   "metadata": {
    "ExecuteTime": {
     "end_time": "2019-07-04T14:51:16.644809Z",
     "start_time": "2019-07-04T14:51:16.631845Z"
    }
   },
   "outputs": [],
   "source": [
    "import numpy as np\n",
    "import tensorflow as tf"
   ]
  },
  {
   "cell_type": "markdown",
   "metadata": {},
   "source": [
    "# 数据标准化"
   ]
  },
  {
   "cell_type": "code",
   "execution_count": 2,
   "metadata": {
    "ExecuteTime": {
     "end_time": "2019-07-04T11:44:12.677548Z",
     "start_time": "2019-07-04T11:44:12.507959Z"
    }
   },
   "outputs": [],
   "source": [
    "train_data = np.load(r'../Task3/result/train_data.npy')\n",
    "train_label = np.load(r'../Task3/result/train_label.npy')"
   ]
  },
  {
   "cell_type": "code",
   "execution_count": 7,
   "metadata": {
    "ExecuteTime": {
     "end_time": "2019-07-04T12:34:54.048202Z",
     "start_time": "2019-07-04T12:34:47.993184Z"
    }
   },
   "outputs": [],
   "source": [
    "import resnet_v2 as res"
   ]
  },
  {
   "cell_type": "code",
   "execution_count": 143,
   "metadata": {
    "ExecuteTime": {
     "end_time": "2019-07-04T14:36:26.269653Z",
     "start_time": "2019-07-04T14:36:26.253685Z"
    }
   },
   "outputs": [],
   "source": [
    "name = np.unique(train_label)\n",
    "\n",
    "y_num = [i for i in map(lambda x:np.where(x == name)[0][0],train_label)]"
   ]
  },
  {
   "cell_type": "code",
   "execution_count": 125,
   "metadata": {
    "ExecuteTime": {
     "end_time": "2019-07-04T14:27:29.613353Z",
     "start_time": "2019-07-04T14:27:29.606341Z"
    }
   },
   "outputs": [],
   "source": [
    "def get_batch(data,label,batch_size):\n",
    "    i = 0\n",
    "    while (i + batch_size) <= len(data):\n",
    "        yield data[i:i+batch_size],label[i:i+batch_size]\n",
    "        i += batch_size\n",
    "    yield data[i:],label[i:]\n",
    "    return None"
   ]
  },
  {
   "cell_type": "code",
   "execution_count": 182,
   "metadata": {
    "ExecuteTime": {
     "end_time": "2019-07-04T15:17:02.275032Z",
     "start_time": "2019-07-04T15:16:58.999815Z"
    },
    "scrolled": false
   },
   "outputs": [],
   "source": [
    "G = tf.Graph()\n",
    "with G.as_default():\n",
    "    def get_input():\n",
    "        x = tf.placeholder(tf.uint8,shape = [None,256*256])\n",
    "        y = tf.placeholder(tf.uint8,shape = [None])\n",
    "        return x,y\n",
    "\n",
    "    def pre_process(x,y):\n",
    "        x = tf.reshape(x,[-1,256,256,1])\n",
    "        x_norm = tf.cast(x,tf.float32)\n",
    "        y_norm = tf.one_hot(y,depth = 10)\n",
    "        y_norm = tf.reshape(y_norm,[-1,10])\n",
    "        return x_norm,y_norm\n",
    "    x,y = get_input()\n",
    "    x_norm,y_norm = pre_process(x,y)\n",
    "    resnet = res.resnet_v2_50(x_norm,num_classes = 10)\n",
    "    loss = tf.losses.softmax_cross_entropy(logits = resnet[0],onehot_labels = y_norm)\n",
    "    tf.summary.scalar('Total_loss',loss)\n",
    "    y_pred = tf.argmax(resnet[0])\n",
    "    train_op = tf.train.AdamOptimizer().minimize(loss)"
   ]
  },
  {
   "cell_type": "code",
   "execution_count": 186,
   "metadata": {
    "ExecuteTime": {
     "end_time": "2019-07-04T15:34:08.113531Z",
     "start_time": "2019-07-04T15:34:07.381181Z"
    }
   },
   "outputs": [],
   "source": [
    "epoch = 1\n",
    "batch_size = 16\n",
    "writer = tf.summary.FileWriter(r'log/', G)"
   ]
  },
  {
   "cell_type": "code",
   "execution_count": 177,
   "metadata": {
    "ExecuteTime": {
     "end_time": "2019-07-04T15:14:11.949936Z",
     "start_time": "2019-07-04T15:14:11.944933Z"
    }
   },
   "outputs": [],
   "source": [
    "train_data = train_data[0:1000]\n",
    "y_num = y_num[0:1000]"
   ]
  },
  {
   "cell_type": "code",
   "execution_count": 188,
   "metadata": {
    "ExecuteTime": {
     "end_time": "2019-07-04T15:35:42.116515Z",
     "start_time": "2019-07-04T15:35:18.702709Z"
    },
    "scrolled": false
   },
   "outputs": [
    {
     "name": "stdout",
     "output_type": "stream",
     "text": [
      "epoch:1,step:0,loss:2.525630235671997\n",
      "epoch:1,step:10,loss:1.7436599731445312\n",
      "epoch:1,step:20,loss:0.5652934312820435\n",
      "epoch:1,step:30,loss:0.9011170864105225\n",
      "epoch:1,step:40,loss:0.30647513270378113\n",
      "epoch:1,step:50,loss:0.2624063789844513\n",
      "epoch:1,step:60,loss:0.10510207712650299\n"
     ]
    }
   ],
   "source": [
    "with tf.Session(graph = G) as sess:\n",
    "    sess.run(tf.global_variables_initializer())\n",
    "    for i in range(epoch):\n",
    "        data_gen = get_batch(train_data,y_num,batch_size)\n",
    "        for j_num,j in enumerate(data_gen):\n",
    "            data,label = j[0],j[1]\n",
    "            _,show_loss = sess.run([train_op,loss],feed_dict = {x:data,y:label})\n",
    "            if (j_num%10 == 0):\n",
    "                print(f'epoch:{epoch},step:{j_num},loss:{show_loss}')\n",
    "    saver = tf.train.Saver()\n",
    "    saver.save(sess,r'./model/model.ckpt')"
   ]
  }
 ],
 "metadata": {
  "kernelspec": {
   "display_name": "Python 3",
   "language": "python",
   "name": "python3"
  },
  "language_info": {
   "codemirror_mode": {
    "name": "ipython",
    "version": 3
   },
   "file_extension": ".py",
   "mimetype": "text/x-python",
   "name": "python",
   "nbconvert_exporter": "python",
   "pygments_lexer": "ipython3",
   "version": "3.6.4"
  },
  "toc": {
   "base_numbering": 1,
   "nav_menu": {},
   "number_sections": true,
   "sideBar": true,
   "skip_h1_title": false,
   "title_cell": "Table of Contents",
   "title_sidebar": "Contents",
   "toc_cell": false,
   "toc_position": {},
   "toc_section_display": true,
   "toc_window_display": false
  },
  "varInspector": {
   "cols": {
    "lenName": 16,
    "lenType": 16,
    "lenVar": 40
   },
   "kernels_config": {
    "python": {
     "delete_cmd_postfix": "",
     "delete_cmd_prefix": "del ",
     "library": "var_list.py",
     "varRefreshCmd": "print(var_dic_list())"
    },
    "r": {
     "delete_cmd_postfix": ") ",
     "delete_cmd_prefix": "rm(",
     "library": "var_list.r",
     "varRefreshCmd": "cat(var_dic_list()) "
    }
   },
   "oldHeight": 414.72,
   "position": {
    "height": "40px",
    "left": "856.8px",
    "right": "20px",
    "top": "121px",
    "width": "354px"
   },
   "types_to_exclude": [
    "module",
    "function",
    "builtin_function_or_method",
    "instance",
    "_Feature"
   ],
   "varInspector_section_display": "none",
   "window_display": true
  }
 },
 "nbformat": 4,
 "nbformat_minor": 2
}
